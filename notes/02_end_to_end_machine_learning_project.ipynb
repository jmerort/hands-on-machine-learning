{
 "cells": [
  {
   "cell_type": "markdown",
   "metadata": {},
   "source": [
    "Notes from chapter 2\n",
    "\n",
    "@jmerort\n",
    "\n",
    "Sept 2025\n",
    "___"
   ]
  },
  {
   "cell_type": "markdown",
   "metadata": {},
   "source": [
    "# 2 - End-to-end machine learning project"
   ]
  },
  {
   "cell_type": "markdown",
   "metadata": {},
   "source": [
    "## 2.1 - Working with real data"
   ]
  },
  {
   "cell_type": "markdown",
   "metadata": {},
   "source": [
    "Working with real-world data is the best way to learn. You can download free real-world datasets in the following sites:\n",
    "\n",
    "• Popular open data repositories\n",
    "\n",
    "— [UC Irvine Machine Learning Repository](http://archive.ics.uci.edu/ml/)\n",
    "\n",
    "— [Kaggle datasets](https://www.kaggle.com/datasets)\n",
    "\n",
    "— [Amazon’s AWS datasets](https://registry.opendata.aws/)\n",
    "\n",
    "• Meta portals (they list open data repositories)\n",
    "\n",
    "— [Data Portals](http://dataportals.org/)\n",
    "\n",
    "— [OpenDataMonitor](http://opendatamonitor.eu/)\n",
    "\n",
    "— [Quandl](http://quandl.com/)\n",
    "\n",
    "• Other pages listing many popular open data repositories\n",
    "\n",
    "— [Wikipedia’s list of Machine Learning datasets](https://homl.info/9)\n",
    "\n",
    "— [Quora.com](https://homl.info/10)\n",
    "\n",
    "— [The datasets subreddit](https://www.reddit.com/r/datasets)"
   ]
  },
  {
   "cell_type": "markdown",
   "metadata": {},
   "source": [
    "## 2.2 - Look at the big picture"
   ]
  },
  {
   "cell_type": "markdown",
   "metadata": {},
   "source": [
    "The task this chapter revolves around using census data from districts in California, which contains metrics such as average income, population, average housing price of districts in California, to build a model that can predict the average housing price on a district given the rest of its metrics."
   ]
  },
  {
   "cell_type": "markdown",
   "metadata": {},
   "source": [
    "### 2.2.1 - Frame the problem"
   ]
  },
  {
   "cell_type": "markdown",
   "metadata": {},
   "source": [
    "Our housing price model's estimations will be fed to a different (hypothetical) model that will determine if it's worth it to invest in a particular district, given the outputs from our model and other data. The current solution for this problem involves a group of experts taking the available data and, by way of quite complex calculations, estimating the price. Their estimations are not very accurate (>20 off)."
   ]
  },
  {
   "cell_type": "markdown",
   "metadata": {},
   "source": [
    "Based on the types of machine learning systems seen in chapter 1, our problem is a supervised (as we have a dataset of labeled examples), regression (we are estimating the value of a numeric variable) that uses batch learning (since there isn't a continuous flow of data coming into the system nor is it necessary to frequently update its performance)."
   ]
  },
  {
   "cell_type": "markdown",
   "metadata": {},
   "source": [
    "### 2.2.2 - Select a performance measure"
   ]
  },
  {
   "cell_type": "markdown",
   "metadata": {},
   "source": [
    "The next step is to select a performance measure, which will tell us how closely the performance of our system approximates the desired one. The most commonly used in regression is the root mean squared error (RMSE), given by the following expression:\n",
    "\n",
    "$$\n",
    "RMSE(X, h)=\\sqrt{\\frac{1}{m}\\sum_{i=1}^m{(h(\\vec{x}_i)-y_i)^2}}\n",
    "$$"
   ]
  },
  {
   "cell_type": "markdown",
   "metadata": {},
   "source": [
    "Where\n",
    "- $m$ is the number of instances in the data set.\n",
    "- $\\vec{x}_i$ is the i-th instance feature vector and $y_i$ is it's corresponding label. \n",
    "- $h()$ is the prediction (or hypothesis) function of our system, which takes a feature vector $\\vec{x}$ and outputs a predicted label $\\hat{y}$.\n",
    "- $X$ is the feature matrix, which contains the feature values of every instance in the dataset. $x_i$ is a particular row of $X$."
   ]
  },
  {
   "cell_type": "markdown",
   "metadata": {},
   "source": [
    "The RMSE is characterized by the fact that it penalizes large errors, which may not always be what we want, for instance in datasets with more outliers than usual. In those cases you may want to use the **mean absolute error** (MAE), which treats all errors equally:\n",
    "\n",
    "$$\n",
    "MAE(X, h)=\\frac{1}{m}\\sum_{i=1}^m{|{h(\\vec{x}_i)-y_i}|}\n",
    "$$"
   ]
  },
  {
   "cell_type": "markdown",
   "metadata": {},
   "source": [
    "### 2.2.3 - Check the hypotheses"
   ]
  },
  {
   "cell_type": "markdown",
   "metadata": {},
   "source": [
    "Before writing any code, it might save you a huge amount of time to check your hypotheses, such as (in this case) the fact that the system will need to output a numeric price instead of a price category and so on."
   ]
  },
  {
   "cell_type": "markdown",
   "metadata": {},
   "source": [
    "## 2.3 - Get the data"
   ]
  }
 ],
 "metadata": {
  "language_info": {
   "name": "python"
  }
 },
 "nbformat": 4,
 "nbformat_minor": 2
}
