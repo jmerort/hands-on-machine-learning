{
 "cells": [
  {
   "cell_type": "markdown",
   "metadata": {},
   "source": [
    "# 1 - The landscape of machine learning"
   ]
  },
  {
   "cell_type": "markdown",
   "metadata": {},
   "source": [
    "Despite what its current popularity might suggest, machine learning has been widely used in computer science since the spam email filters of the 90s, and in later years with speech-to-text and automatic translation services. "
   ]
  },
  {
   "cell_type": "markdown",
   "metadata": {},
   "source": [
    "## 1.1 - What is machine learning?"
   ]
  },
  {
   "cell_type": "markdown",
   "metadata": {},
   "source": [
    "Machine learning is the art of programming computers to learn to perform tasks from data. Two classic definitions are the following:\n",
    "\n",
    "> [Machine learning] is the field of study that gives computers the ability to learn without being explicitly programmed.  \n",
    "> — Arthur Samuel, 1959\n",
    "\n",
    "> A computer program is said to learn from experience **E** with respect to a task **T** and a performance measure **R**, if its performance at **T**, as measured by **R**, improves with experience **E**.  \n",
    "> — Tom Mitchell, 1997\n",
    "\n",
    "If a computer system gets better at a certain task by doing it (or similar tasks) many times, it is a machine learning system."
   ]
  },
  {
   "cell_type": "markdown",
   "metadata": {},
   "source": [
    "## 1.2 - Advantages of machine learning"
   ]
  },
  {
   "cell_type": "markdown",
   "metadata": {},
   "source": [
    "One of the main advantages of machine learning over traditional programming is the fact that, once a machine learning system has been built, it can modify how it works in response to changing data without being programmed to do so. This makes machine learning systems more resilient in changing environments, while requiring less effort on the part of the programmer.\n",
    "\n",
    "There are also many problems for which an algorithm either hasn't been or can't be effectively developed, and thus can only be properly handeled using machine learning methods. Among such problems are image and speech recongition.\n",
    "\n",
    "Lastly, the fact that machine learning can extract patterns over large quantities of data, which could never be analyzed by a person or many, means that, by studying how machine learning systems are trained on the data, we can obtain valuable information about it. This is called **data mining**."
   ]
  },
  {
   "cell_type": "markdown",
   "metadata": {},
   "source": [
    "## 1.3 - Types of machine learning systems"
   ]
  },
  {
   "cell_type": "markdown",
   "metadata": {},
   "source": [
    "We will classify machine learning systems using 3 criteria:\n",
    "- How the data is supervised during training\n",
    "- Wether or not they can learn while they are working\n",
    "- Wether they simply compare data points to each other or instead build predictive models"
   ]
  },
  {
   "cell_type": "markdown",
   "metadata": {},
   "source": [
    "### 1.3.1 - Data supervision"
   ]
  },
  {
   "cell_type": "markdown",
   "metadata": {},
   "source": [
    "In order to learn from data, a machine learning system can recieve semantic content as well as the \"raw\" data. For instance, emails used to train a spam detection filter will be given to the model labeled as spam or ham. This is known as **supervised learning**, as the model is given information as to what the data should be classified as. The values from which the machine learning system is supposed to extract the desired value are called **features** or **attributes**, and the desired values are called **labels** or **objectives**. For example, a car price prediction system might use as labels the car's motor type, brand and fuel consumption as features, while the car price would be its objective.\n",
    "\n",
    "Supervised learning is usually divided into 2 groups, depending on the goal. If the goal is to classify a data point into a discrete set of categories, it's called **classification**; if the goal is to predict the value of a given numeric variable, it's called **regression**."
   ]
  },
  {
   "cell_type": "markdown",
   "metadata": {},
   "source": [
    "**Unsupervised learning** is learning done on unlabeled data. In this type of learning, the system does not know how it's supposed to divide the data, but instead looks for patterns and groups related data points into subsets. \n",
    "\n",
    "**Dimensionality reduction** is closely related to unsupervised learning; in it, the system is trained to reduce the number of features of the training data, while at the same time retaining as much information as possible. This is known as **feature extraction**. Another type of unsupervised learning is anomaly detection, in which the system is trained exclusively on data points considered to be normal, and is subsequently used to detect if new data fed to it is normal (similar to the data it was trained on) or not. "
   ]
  },
  {
   "cell_type": "markdown",
   "metadata": {},
   "source": [
    "Algorithms that can work on partially labeled datasets are called **semi-supervised learning** algorithms. They use a mixture of supervised and unsupervised techniques and can label new data points. For example, Google Photos can automatically detect the different persons that can be seen on your photos, and, if you tell the app which person is which in at least one photo, it can correctly label them in the rest."
   ]
  },
  {
   "cell_type": "markdown",
   "metadata": {},
   "source": [
    "**Auto-supervised learning** can generate a labeled dataset out of an unlabeled one. It will create its own labels based on the correlations it finds and then use them to label new data points on its own. Is is normally used for the same type of tasks that supervised learning is used, namely classification and regression, instead of those typical of unsupervised learning (dim. reduction, anomaly detection...)"
   ]
  },
  {
   "cell_type": "markdown",
   "metadata": {},
   "source": [
    "**Reinforcement learning** is the most different of them all. In it, the learning model, called an agent, has a series of actions it can execute and recieves rewards and punishments (negative rewards) as consequences for performing each action on a given scenario. The system's goal is to develop a policy (set of actions to perform in each circumstance) that maximizes rewards over time. Reinforcement learning systems have been used to train robots to walk and to play games (AlphaGo being a notable example)."
   ]
  },
  {
   "cell_type": "markdown",
   "metadata": {},
   "source": [
    "### 1.3.2 - Batch vs online learning"
   ]
  },
  {
   "cell_type": "markdown",
   "metadata": {},
   "source": [
    "Some machine learning models are capable of learning while they are deployed and others are not. Systems that need to be trained with all the training data every time we want to modify their performance are called **batch learning** systems. They are the most common, but have some limitations:\n",
    "- Real world data is constantly changing (in some use cases much faster than in others), and so the model's performance will tend to degrade over time if they are not regularly retrained.\n",
    "- Training the model with all the training data requires a lot of time and resources, which severely limits the frequency with which these models can be retrained.\n",
    "- Datasets can be very heavy, which means that, if our model runs on a modest computer, it will be difficult to retrain it."
   ]
  },
  {
   "cell_type": "markdown",
   "metadata": {},
   "source": [
    "To deal with the problems batch learning poses, we can use **online learning** models, which can learn from new instances after the model has been deployed, improving their performance on the go. Their training is done over individual instances or over mini-batches of the training data. This means each step of the training is fast and computationally light, which allows it to be performed online and in low resource machines.\n",
    "\n",
    "Online learning systems are quicker to adapt, and thus work best in dynamic environments. Their **learning rate** determines how quickly they adapt to new data, giving us more rapidly changing or more conservative online learning models. This changing performance in response to new data can become a problem, as bad data (perhaps due to a technical failure or a malicious attack) can degrade the system's performance in real time, which will be noticed by users. Therefore, we ought to monitor the system closely and be very careful about which data enters it, even stopping the learning if we notice any significant degradation."
   ]
  }
 ],
 "metadata": {
  "kernelspec": {
   "display_name": "usr",
   "language": "python",
   "name": "python3"
  },
  "language_info": {
   "codemirror_mode": {
    "name": "ipython",
    "version": 3
   },
   "file_extension": ".py",
   "mimetype": "text/x-python",
   "name": "python",
   "nbconvert_exporter": "python",
   "pygments_lexer": "ipython3",
   "version": "3.12.3"
  }
 },
 "nbformat": 4,
 "nbformat_minor": 2
}
