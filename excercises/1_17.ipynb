{
 "cells": [
  {
   "cell_type": "markdown",
   "metadata": {},
   "source": [
    "1.17\n",
    "\n",
    "**17. What is the purpose of a validation set?**\n",
    "___\n",
    "\n",
    "@jmerort\n",
    "\n",
    "Sep 2025"
   ]
  },
  {
   "cell_type": "markdown",
   "metadata": {},
   "source": [
    "When tuning the hyperparameters of a model to perform better on the test set, we run the risk of overfitting the model to it, thus worsening generalization. The validation set is used to find the best hyperparameter values, keeping the test set separate to measure generalization."
   ]
  }
 ],
 "metadata": {
  "language_info": {
   "name": "python"
  }
 },
 "nbformat": 4,
 "nbformat_minor": 2
}
