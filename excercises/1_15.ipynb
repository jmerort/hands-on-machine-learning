{
 "cells": [
  {
   "cell_type": "markdown",
   "metadata": {},
   "source": [
    "E1.15\n",
    "\n",
    "**15. If your model performs great on the training data but generalizes poorly to new\n",
    "instances, what is happening? Can you name three possible solutions?**\n",
    "___\n",
    "\n",
    "@jmerort\n",
    "\n",
    "Sep 2025"
   ]
  },
  {
   "cell_type": "markdown",
   "metadata": {},
   "source": [
    "What happens in these cases is that the model has learned irrelevant (\"noisy\") features of the training data and is using them to predict on it. As the features are not essential of this type of data, they may not be present on new instances and thus them odel may not perform properly. This is known as **overfitting**, and happens when the complexity of the learning algorithm exceeds that of the data.\n",
    "\n",
    "It may be fixed by either using a simpler learning algorithm, using regularization to limit its complexity, using better data, with less noisy features, or gathering more data."
   ]
  }
 ],
 "metadata": {
  "language_info": {
   "name": "python"
  }
 },
 "nbformat": 4,
 "nbformat_minor": 2
}
