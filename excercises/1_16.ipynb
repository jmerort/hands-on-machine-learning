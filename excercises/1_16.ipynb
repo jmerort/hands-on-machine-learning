{
 "cells": [
  {
   "cell_type": "markdown",
   "metadata": {},
   "source": [
    "E1.16\n",
    "\n",
    "**16. What is a test set, and why would you want to use it?**\n",
    "___\n",
    "\n",
    "@jmerort\n",
    "\n",
    "Sep 2025"
   ]
  },
  {
   "cell_type": "markdown",
   "metadata": {},
   "source": [
    "A test set is a subset of the data that is not used to train the model, but instead fed to it after the training in order to evaluate its generalization error, which is a measure of the model's performance on data that it has never seen before."
   ]
  }
 ],
 "metadata": {
  "language_info": {
   "name": "python"
  }
 },
 "nbformat": 4,
 "nbformat_minor": 2
}
