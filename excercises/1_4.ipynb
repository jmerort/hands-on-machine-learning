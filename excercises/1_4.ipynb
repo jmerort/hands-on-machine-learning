{
 "cells": [
  {
   "cell_type": "markdown",
   "metadata": {},
   "source": [
    "E1.4\n",
    "\n",
    "**4. What are the two most common supervised tasks?**\n",
    "___\n",
    "\n",
    "@jmerortz\n",
    "\n",
    "Sep 2025"
   ]
  },
  {
   "cell_type": "markdown",
   "metadata": {},
   "source": [
    "**Classification**, which consists of placing an instance into one of multiple discrete categories, and **regression**, which consists of estimating the value of an instance's target variable. Both are similar, but, if the target variable can be modelled as continuous, that's classfication."
   ]
  }
 ],
 "metadata": {
  "language_info": {
   "name": "python"
  }
 },
 "nbformat": 4,
 "nbformat_minor": 2
}
