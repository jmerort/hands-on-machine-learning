{
 "cells": [
  {
   "cell_type": "markdown",
   "metadata": {},
   "source": [
    "E1.13\n",
    "\n",
    "**13. What do model-based learning algorithms search for? What is the most common strategy they use to succeed? How do they make predictions?**\n",
    "___\n",
    "\n",
    "@jmerort\n",
    "\n",
    "Sep 2025"
   ]
  },
  {
   "cell_type": "markdown",
   "metadata": {},
   "source": [
    "They search for the values of the model's parameters that make it predict best on new data. They make predictions by running every new instance through the model, without relying on the training data once trained."
   ]
  }
 ],
 "metadata": {
  "language_info": {
   "name": "python"
  }
 },
 "nbformat": 4,
 "nbformat_minor": 2
}
