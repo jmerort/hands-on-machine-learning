{
 "cells": [
  {
   "cell_type": "markdown",
   "metadata": {},
   "source": [
    "E1.11\n",
    "\n",
    "**11. What type of learning algorithm relies on a similarity measure to make predictions?**\n",
    "___\n",
    "\n",
    "@jmerort\n",
    "\n",
    "Sep 2025"
   ]
  },
  {
   "cell_type": "markdown",
   "metadata": {},
   "source": [
    "Instance-based learning models such as k-nearest-neighbors compare every new instance to the previous ones in order to classify it."
   ]
  }
 ],
 "metadata": {
  "language_info": {
   "name": "python"
  }
 },
 "nbformat": 4,
 "nbformat_minor": 2
}
