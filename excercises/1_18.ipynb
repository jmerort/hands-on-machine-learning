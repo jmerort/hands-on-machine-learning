{
 "cells": [
  {
   "cell_type": "markdown",
   "metadata": {},
   "source": [
    "E1.18\n",
    "\n",
    "**1.18 What is the train-dev set, when do you need it, and how do you use it?**\n",
    "___\n",
    "\n",
    "@jmerort\n",
    "\n",
    "Sep 2025"
   ]
  },
  {
   "cell_type": "markdown",
   "metadata": {},
   "source": [
    "Similar to the validation set, the train-dev-set is a subset of the training set used to evaluate the model (not trained on it) to check if for possible data mismatches between the training and validation sets. If a model performs well on it and poorly on the validation set, there probably is a mismatch; if it also performs poorly on the train-dev-set, the model is likely overfit to the training data."
   ]
  }
 ],
 "metadata": {
  "language_info": {
   "name": "python"
  }
 },
 "nbformat": 4,
 "nbformat_minor": 2
}
