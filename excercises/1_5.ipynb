{
 "cells": [
  {
   "cell_type": "markdown",
   "metadata": {},
   "source": [
    "E1.5\n",
    "\n",
    "**5. Can you name four common unsupervised tasks?**\n",
    "___\n",
    "\n",
    "@jmerort\n",
    "\n",
    "Sep 2025"
   ]
  },
  {
   "cell_type": "markdown",
   "metadata": {},
   "source": [
    "Data mining, anomaly detection, dimensionality reduction and clustering."
   ]
  }
 ],
 "metadata": {
  "language_info": {
   "name": "python"
  }
 },
 "nbformat": 4,
 "nbformat_minor": 2
}
