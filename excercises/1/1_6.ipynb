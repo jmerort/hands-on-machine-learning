{
 "cells": [
  {
   "cell_type": "markdown",
   "metadata": {},
   "source": [
    "E1.6\n",
    "\n",
    "**6. What type of Machine Learning algorithm would you use to allow a robot to walk in various unknown terrains?**\n",
    "___\n",
    "\n",
    "@jmerort\n",
    "\n",
    "Sep 2025"
   ]
  },
  {
   "cell_type": "markdown",
   "metadata": {},
   "source": [
    "A reinforcement learning algorithm would be best, as the robot would need to adjust its behavior in real-time and in response to the results of its actions, e.g. if by moving too fast the robot falls down, it should learn to move slower."
   ]
  }
 ],
 "metadata": {
  "language_info": {
   "name": "python"
  }
 },
 "nbformat": 4,
 "nbformat_minor": 2
}
