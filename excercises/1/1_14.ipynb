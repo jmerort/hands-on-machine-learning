{
 "cells": [
  {
   "cell_type": "markdown",
   "metadata": {},
   "source": [
    "E 1.14\n",
    "\n",
    "**14. Can you name four of the main challenges in Machine Learning?**\n",
    "___\n",
    "\n",
    "@jmerort\n",
    "\n",
    "Sep 2025"
   ]
  },
  {
   "cell_type": "markdown",
   "metadata": {},
   "source": [
    "The main challenges of machine learning have to do either with bad data or bad learning algorithms. Among the bad data challenges are not having enough data, and having bad quality data. The 2 main challenges that have to do with the learning algorithm are overfitting and underfitting."
   ]
  }
 ],
 "metadata": {
  "language_info": {
   "name": "python"
  }
 },
 "nbformat": 4,
 "nbformat_minor": 2
}
