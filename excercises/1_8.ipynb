{
 "cells": [
  {
   "cell_type": "markdown",
   "metadata": {},
   "source": [
    "E1.8\n",
    "\n",
    "**8. Would you frame the problem of spam detection as a supervised learning problem or an unsupervised learning problem?**\n",
    "___\n",
    "\n",
    "@jmerort\n",
    "\n",
    "Sep 2025"
   ]
  },
  {
   "cell_type": "markdown",
   "metadata": {},
   "source": [
    "It's a supervised learning problem, as we already know the 2 categories of emails we want to detect (spam and ham) and have numerous clear examples of both kinds."
   ]
  }
 ],
 "metadata": {
  "language_info": {
   "name": "python"
  }
 },
 "nbformat": 4,
 "nbformat_minor": 2
}
