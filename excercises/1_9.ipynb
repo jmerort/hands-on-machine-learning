{
 "cells": [
  {
   "cell_type": "markdown",
   "metadata": {},
   "source": [
    "E1.9\n",
    "\n",
    "**9. What is an online learning system?**\n",
    "___\n",
    "\n",
    "@jmerort\n",
    "\n",
    "Sep 2025"
   ]
  },
  {
   "cell_type": "markdown",
   "metadata": {},
   "source": [
    "An online learning system is a machine learning system that is able to alter its performance in small steps, instead of needing to be trained on a full dataset every time their performance must change. They can learn as they deployed, and thus gradually improve their performance as they see new data. "
   ]
  }
 ],
 "metadata": {
  "language_info": {
   "name": "python"
  }
 },
 "nbformat": 4,
 "nbformat_minor": 2
}
