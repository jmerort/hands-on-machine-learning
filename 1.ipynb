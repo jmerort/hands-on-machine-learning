{
 "cells": [
  {
   "cell_type": "markdown",
   "metadata": {},
   "source": [
    "# 1 - The landscape of machine learning"
   ]
  },
  {
   "cell_type": "markdown",
   "metadata": {},
   "source": [
    "Despite what its current popularity might suggest, machine learning has been widely used in computer science since the spam email filters of the 90s, and in later years with speech-to-text and automatic translation services. "
   ]
  },
  {
   "cell_type": "markdown",
   "metadata": {},
   "source": [
    "## 1.1 - What is machine learning?"
   ]
  },
  {
   "cell_type": "markdown",
   "metadata": {},
   "source": [
    "Machine learning is the art of programming computers to learn to perform tasks from data. Two classic definitions are the following:\n",
    "\n",
    "> [Machine learning] is the field of study that gives computers the ability to learn without being explicitly programmed.  \n",
    "> — Arthur Samuel, 1959\n",
    "\n",
    "> A computer program is said to learn from experience **E** with respect to a task **T** and a performance measure **R**, if its performance at **T**, as measured by **R**, improves with experience **E**.  \n",
    "> — Tom Mitchell, 1997\n",
    "\n",
    "If a computer system gets better at a certain task by doing it (or similar tasks) many times, it is a machine learning system."
   ]
  },
  {
   "cell_type": "markdown",
   "metadata": {},
   "source": [
    "## 1.2 - Advantages of machine learning"
   ]
  },
  {
   "cell_type": "markdown",
   "metadata": {},
   "source": [
    "One of the main advantages of machine learning over traditional programming is the fact that, once a machine learning system has been built, it can modify how it works in response to changing data without being programmed to do so. This makes machine learning systems more resilient in changing environments, while requiring less effort on the part of the programmer.\n",
    "\n",
    "There are also many problems for which an algorithm either hasn't been or can't be effectively developed, and thus can only be properly handeled using machine learning methods. Among such problems are image and speech recongition.\n",
    "\n",
    "Lastly, the fact that machine learning can extract patterns over large quantities of data, which could never be analyzed by a person or many, means that, by studying how machine learning systems are trained on the data, we can obtain valuable information about it. This is called **data mining**."
   ]
  },
  {
   "cell_type": "markdown",
   "metadata": {},
   "source": [
    "## 1.3 - Types of machine learning systems"
   ]
  },
  {
   "cell_type": "markdown",
   "metadata": {},
   "source": [
    "We will classify machine learning systems using 3 criteria:\n",
    "- How the data is supervised during training\n",
    "- Wether or not they can learn while they are working\n",
    "- Wether they simply compare data points to each other or instead build predictive models"
   ]
  },
  {
   "cell_type": "markdown",
   "metadata": {},
   "source": [
    "### 1.3.1 - Data supervision"
   ]
  },
  {
   "cell_type": "markdown",
   "metadata": {},
   "source": [
    "In order to learn from data, a machine learning system can recieve semantic content as well as the \"raw\" data. For instance, emails used to train a spam detection filter will be given to the model labeled as spam or ham. This is known as supervision, as the model is given information as to what the data should be classified as."
   ]
  }
 ],
 "metadata": {
  "kernelspec": {
   "display_name": "usr",
   "language": "python",
   "name": "python3"
  },
  "language_info": {
   "name": "python",
   "version": "3.12.3"
  }
 },
 "nbformat": 4,
 "nbformat_minor": 2
}
